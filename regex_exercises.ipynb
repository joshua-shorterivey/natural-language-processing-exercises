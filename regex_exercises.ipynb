{
 "cells": [
  {
   "cell_type": "markdown",
   "metadata": {},
   "source": [
    "# Exercises\n",
    "\n",
    "Using the repo setup directions, setup a new local and remote repository named natural-language-processing-exercises. The local version of your repo should live inside of ~/codeup-data-science. This repo should be named natural-language-processing-exercises\n",
    "\n",
    "Save this work in your natural-language-processing-exercises repo. Then add, commit, and push your changes.\n",
    "\n",
    "Unless a specific file extension is specified, you may do your work either in a python script (.py) or a jupyter notebook (.ipynb).\n",
    "\n",
    "Do your work for this exercise in a file named regex_exercises.\n",
    "\n"
   ]
  },
  {
   "cell_type": "markdown",
   "metadata": {},
   "source": [
    "# Imports"
   ]
  },
  {
   "cell_type": "code",
   "execution_count": 1,
   "metadata": {},
   "outputs": [],
   "source": [
    "import pandas as pd\n",
    "import re # part of the python stdlib\n"
   ]
  },
  {
   "cell_type": "markdown",
   "metadata": {},
   "source": [
    "## 1. Write a function named is_vowel.\n",
    "* It should accept a string as input and use a regular expression to determine if the passed string is a vowel. \n",
    "* While not explicity mentioned in the lesson, you can treat the result of re.search as a boolean value that indicates whether or not the regular expression matches the given string.\n",
    "\n"
   ]
  },
  {
   "cell_type": "code",
   "execution_count": 5,
   "metadata": {},
   "outputs": [],
   "source": [
    "def is_vowel(string):\n",
    "    regexp = r'[aeiou]'\n",
    "\n",
    "    return len(re.findall(regexp, string, re.IGNORECASE)) != 0"
   ]
  },
  {
   "cell_type": "code",
   "execution_count": 7,
   "metadata": {},
   "outputs": [
    {
     "data": {
      "text/plain": [
       "True"
      ]
     },
     "execution_count": 7,
     "metadata": {},
     "output_type": "execute_result"
    }
   ],
   "source": [
    "is_vowel('i')"
   ]
  },
  {
   "cell_type": "code",
   "execution_count": 93,
   "metadata": {},
   "outputs": [],
   "source": [
    "def is_vowel2(string):\n",
    "    regexp= r'^[aeiou]$'\n",
    "\n",
    "    return bool(re.search(regexp, string, re.IGNORECASE))"
   ]
  },
  {
   "cell_type": "code",
   "execution_count": 94,
   "metadata": {},
   "outputs": [
    {
     "data": {
      "text/plain": [
       "False"
      ]
     },
     "execution_count": 94,
     "metadata": {},
     "output_type": "execute_result"
    }
   ],
   "source": [
    "is_vowel2('l')"
   ]
  },
  {
   "cell_type": "markdown",
   "metadata": {},
   "source": [
    "## 2. Write a function named is_valid_username that accepts a string as input. \n",
    "* A valid username:\n",
    "    * starts with a lowercase letter\n",
    "    * only consists of lowercase letters, numbers, or the _ character\n",
    "    * no longer than 32 characters. \n",
    "    * Should return either True or False depending on whether the passed string is a valid username.\n"
   ]
  },
  {
   "cell_type": "code",
   "execution_count": 103,
   "metadata": {},
   "outputs": [
    {
     "name": "stdout",
     "output_type": "stream",
     "text": [
      "False\n",
      "False\n",
      "True\n",
      "False\n",
      "True\n",
      "False\n"
     ]
    }
   ],
   "source": [
    "#put the $ to make the word stop\n",
    "def is_valid_username(string):\n",
    "    regexp = r'^[a-z]\\w{1,31}$'\n",
    "    \n",
    "    return bool(re.search(regexp, string))\n",
    "    return len(re.findall(regexp, string, re.VERBOSE)) == 1\n",
    "\n",
    "print(is_valid_username('aaaaaaaaaaaaaaaaaaaaaaaaaaaaaaaaa'))\n",
    "print(is_valid_username('okay&*'))\n",
    "print(is_valid_username('codeup'))\n",
    "print(is_valid_username('Codeup'))\n",
    "print(is_valid_username('codeup123'))\n",
    "print(is_valid_username('1codeup'))"
   ]
  },
  {
   "cell_type": "code",
   "execution_count": 13,
   "metadata": {},
   "outputs": [
    {
     "data": {
      "text/plain": [
       "33"
      ]
     },
     "execution_count": 13,
     "metadata": {},
     "output_type": "execute_result"
    }
   ],
   "source": [
    "len('aaaaaaaaaaaaaaaaaaaaaaaaaaaaaaaaa')"
   ]
  },
  {
   "cell_type": "markdown",
   "metadata": {},
   "source": [
    "## 3. Write a regular expression to capture phone numbers. It should match all of the following:\n",
    "        (210) 867 5309\n",
    "        +1 210.867.5309\n",
    "        867-5309\n",
    "        210-867-5309"
   ]
  },
  {
   "cell_type": "code",
   "execution_count": 104,
   "metadata": {},
   "outputs": [],
   "source": [
    "numbers = ['(210) 867 5309',\\\n",
    "        '+1 210.867.5309',\n",
    "        '867-5309',\n",
    "        '210-867-5309']"
   ]
  },
  {
   "cell_type": "code",
   "execution_count": 117,
   "metadata": {},
   "outputs": [
    {
     "name": "stdout",
     "output_type": "stream",
     "text": [
      "['(210) 867 5309']\n",
      "true\n",
      "['+1 210.867.5309']\n",
      "true\n",
      "['867-5309']\n",
      "true\n",
      "['210-867-5309']\n",
      "true\n"
     ]
    }
   ],
   "source": [
    "regexp = r'.*?\\d+\\D*?\\d+.\\d+$'\n",
    "\n",
    "for number in numbers:\n",
    "    print(re.findall(regexp, number))\n",
    "    if re.search(regexp, number):\n",
    "        print('true')\n",
    "    else:\n",
    "        print('false')"
   ]
  },
  {
   "cell_type": "markdown",
   "metadata": {},
   "source": [
    "## 4. Use regular expressions to convert the dates below to the standardized year-month-day format.\n",
    "        02/04/19\n",
    "        02/05/19\n",
    "        02/06/19\n",
    "        02/07/19\n",
    "        02/08/19\n",
    "        02/09/19\n",
    "        02/10/19\n",
    "\n"
   ]
  },
  {
   "cell_type": "code",
   "execution_count": 118,
   "metadata": {},
   "outputs": [],
   "source": [
    "dates = ['02/04/19',\n",
    "        '02/05/19',\n",
    "        '02/06/19',\n",
    "        '02/07/19',\n",
    "        '02/08/19',\n",
    "        '02/09/19',\n",
    "        '02/10/19']"
   ]
  },
  {
   "cell_type": "code",
   "execution_count": 123,
   "metadata": {},
   "outputs": [
    {
     "name": "stdout",
     "output_type": "stream",
     "text": [
      "19-02-04\n",
      "19-02-05\n",
      "19-02-06\n",
      "19-02-07\n",
      "19-02-08\n",
      "19-02-09\n",
      "19-02-10\n"
     ]
    }
   ],
   "source": [
    "regexp=r'(\\d{2})/(\\d{2})/(\\d{2})'\n",
    "\n",
    "for date in dates:\n",
    "    print(re.sub(regexp, r'\\3-\\1-\\2' ,date))"
   ]
  },
  {
   "cell_type": "markdown",
   "metadata": {},
   "source": [
    "## 5. Write a regex to extract the various parts of these logfile lines:\n",
    "\n",
    "\n",
    "        GET /api/v1/sales?page=86 [16/Apr/2019:193452+0000] HTTP/1.1 {200} 510348 \"python-requests/2.21.0\" 97.105.19.58\n",
    "        POST /users_accounts/file-upload [16/Apr/2019:193452+0000] HTTP/1.1 {201} 42 \"User-Agent: Mozilla/5.0 (X11; Fedora; Fedora; Linux x86_64) AppleWebKit/537.36 (KHTML, like Gecko) Chrome/73.0.3683.86 Safari/537.36\" 97.105.19.58\n",
    "        GET /api/v1/items?page=3 [16/Apr/2019:193453+0000] HTTP/1.1 {429} 3561 \"python-requests/2.21.0\" 97.105.19.58"
   ]
  },
  {
   "cell_type": "markdown",
   "metadata": {},
   "source": []
  },
  {
   "cell_type": "code",
   "execution_count": 124,
   "metadata": {},
   "outputs": [],
   "source": [
    "logs = '''\n",
    "GET /api/v1/sales?page=86 [16/Apr/2019:193452+0000] HTTP/1.1 {200} 510348 \"python-requests/2.21.0\" 97.105.19.58\n",
    "POST /users_accounts/file-upload [16/Apr/2019:193452+0000] HTTP/1.1 {201} 42 \"User-Agent: Mozilla/5.0 (X11; Fedora; Fedora; Linux x86_64) AppleWebKit/537.36 (KHTML, like Gecko) Chrome/73.0.3683.86 Safari/537.36\" 97.105.19.58\n",
    "GET /api/v1/items?page=3 [16/Apr/2019:193453+0000] HTTP/1.1 {429} 3561 \"python-requests/2.21.0\" 97.105.19.58\n",
    "'''"
   ]
  },
  {
   "cell_type": "code",
   "execution_count": 125,
   "metadata": {},
   "outputs": [],
   "source": [
    "\n",
    "logs = logs.strip().split('\\n')"
   ]
  },
  {
   "cell_type": "code",
   "execution_count": 126,
   "metadata": {},
   "outputs": [
    {
     "data": {
      "text/plain": [
       "'GET /api/v1/sales?page=86 [16/Apr/2019:193452+0000] HTTP/1.1 {200} 510348 \"python-requests/2.21.0\" 97.105.19.58'"
      ]
     },
     "execution_count": 126,
     "metadata": {},
     "output_type": "execute_result"
    }
   ],
   "source": [
    "logs[0]"
   ]
  },
  {
   "cell_type": "code",
   "execution_count": 141,
   "metadata": {},
   "outputs": [
    {
     "data": {
      "text/plain": [
       "[('GET',\n",
       "  '/api/v1/sales?page=86',\n",
       "  '16/Apr/2019',\n",
       "  'HTTP/1.1',\n",
       "  '200',\n",
       "  '510348',\n",
       "  'python-requests/2.21.0',\n",
       "  '97.105.19.58')]"
      ]
     },
     "execution_count": 141,
     "metadata": {},
     "output_type": "execute_result"
    }
   ],
   "source": [
    "regexp = r'(\\w+)\\s(.*?)\\s\\[(.*?)\\:.*?\\s(.*?)\\s\\{(\\d+)}\\s(\\d+)\\s\\\"(.*?)\\\"\\s(.*)'\n",
    "\n",
    "re.findall(regexp, logs[0])\n"
   ]
  },
  {
   "cell_type": "code",
   "execution_count": 145,
   "metadata": {},
   "outputs": [
    {
     "ename": "AttributeError",
     "evalue": "'NoneType' object has no attribute 'groupdict'",
     "output_type": "error",
     "traceback": [
      "\u001b[0;31m---------------------------------------------------------------------------\u001b[0m",
      "\u001b[0;31mAttributeError\u001b[0m                            Traceback (most recent call last)",
      "\u001b[1;32m/Users/sinao/codeup-data-science/natural-language-processing-exercises/regex_exercises.ipynb Cell 24\u001b[0m in \u001b[0;36m<cell line: 12>\u001b[0;34m()\u001b[0m\n\u001b[1;32m      <a href='vscode-notebook-cell:/Users/sinao/codeup-data-science/natural-language-processing-exercises/regex_exercises.ipynb#X35sZmlsZQ%3D%3D?line=0'>1</a>\u001b[0m regexp \u001b[39m=\u001b[39m \u001b[39mr\u001b[39m\u001b[39m'''\u001b[39m\n\u001b[1;32m      <a href='vscode-notebook-cell:/Users/sinao/codeup-data-science/natural-language-processing-exercises/regex_exercises.ipynb#X35sZmlsZQ%3D%3D?line=1'>2</a>\u001b[0m \u001b[39m        (?P<method_reques>\u001b[39m\u001b[39m\\\u001b[39m\u001b[39mw+)\u001b[39m\u001b[39m\\\u001b[39m\u001b[39ms\u001b[39m\n\u001b[1;32m      <a href='vscode-notebook-cell:/Users/sinao/codeup-data-science/natural-language-processing-exercises/regex_exercises.ipynb#X35sZmlsZQ%3D%3D?line=2'>3</a>\u001b[0m \u001b[39m        (?P<path>.*?)\u001b[39m\u001b[39m\\\u001b[39m\u001b[39ms\u001b[39m\u001b[39m\\\u001b[39m\u001b[39m[\u001b[39m\n\u001b[0;32m   (...)\u001b[0m\n\u001b[1;32m      <a href='vscode-notebook-cell:/Users/sinao/codeup-data-science/natural-language-processing-exercises/regex_exercises.ipynb#X35sZmlsZQ%3D%3D?line=8'>9</a>\u001b[0m \u001b[39m        (?P<ip_address>.*)\u001b[39m\n\u001b[1;32m     <a href='vscode-notebook-cell:/Users/sinao/codeup-data-science/natural-language-processing-exercises/regex_exercises.ipynb#X35sZmlsZQ%3D%3D?line=9'>10</a>\u001b[0m \u001b[39m        \u001b[39m\u001b[39m'''\u001b[39m\n\u001b[0;32m---> <a href='vscode-notebook-cell:/Users/sinao/codeup-data-science/natural-language-processing-exercises/regex_exercises.ipynb#X35sZmlsZQ%3D%3D?line=11'>12</a>\u001b[0m logs_parsed \u001b[39m=\u001b[39m [re\u001b[39m.\u001b[39msearch(regexp, log, re\u001b[39m.\u001b[39mVERBOSE)\u001b[39m.\u001b[39mgroupdict() \u001b[39mfor\u001b[39;00m log \u001b[39min\u001b[39;00m logs]\n",
      "\u001b[1;32m/Users/sinao/codeup-data-science/natural-language-processing-exercises/regex_exercises.ipynb Cell 24\u001b[0m in \u001b[0;36m<listcomp>\u001b[0;34m(.0)\u001b[0m\n\u001b[1;32m      <a href='vscode-notebook-cell:/Users/sinao/codeup-data-science/natural-language-processing-exercises/regex_exercises.ipynb#X35sZmlsZQ%3D%3D?line=0'>1</a>\u001b[0m regexp \u001b[39m=\u001b[39m \u001b[39mr\u001b[39m\u001b[39m'''\u001b[39m\n\u001b[1;32m      <a href='vscode-notebook-cell:/Users/sinao/codeup-data-science/natural-language-processing-exercises/regex_exercises.ipynb#X35sZmlsZQ%3D%3D?line=1'>2</a>\u001b[0m \u001b[39m        (?P<method_reques>\u001b[39m\u001b[39m\\\u001b[39m\u001b[39mw+)\u001b[39m\u001b[39m\\\u001b[39m\u001b[39ms\u001b[39m\n\u001b[1;32m      <a href='vscode-notebook-cell:/Users/sinao/codeup-data-science/natural-language-processing-exercises/regex_exercises.ipynb#X35sZmlsZQ%3D%3D?line=2'>3</a>\u001b[0m \u001b[39m        (?P<path>.*?)\u001b[39m\u001b[39m\\\u001b[39m\u001b[39ms\u001b[39m\u001b[39m\\\u001b[39m\u001b[39m[\u001b[39m\n\u001b[0;32m   (...)\u001b[0m\n\u001b[1;32m      <a href='vscode-notebook-cell:/Users/sinao/codeup-data-science/natural-language-processing-exercises/regex_exercises.ipynb#X35sZmlsZQ%3D%3D?line=8'>9</a>\u001b[0m \u001b[39m        (?P<ip_address>.*)\u001b[39m\n\u001b[1;32m     <a href='vscode-notebook-cell:/Users/sinao/codeup-data-science/natural-language-processing-exercises/regex_exercises.ipynb#X35sZmlsZQ%3D%3D?line=9'>10</a>\u001b[0m \u001b[39m        \u001b[39m\u001b[39m'''\u001b[39m\n\u001b[0;32m---> <a href='vscode-notebook-cell:/Users/sinao/codeup-data-science/natural-language-processing-exercises/regex_exercises.ipynb#X35sZmlsZQ%3D%3D?line=11'>12</a>\u001b[0m logs_parsed \u001b[39m=\u001b[39m [re\u001b[39m.\u001b[39;49msearch(regexp, log, re\u001b[39m.\u001b[39;49mVERBOSE)\u001b[39m.\u001b[39;49mgroupdict() \u001b[39mfor\u001b[39;00m log \u001b[39min\u001b[39;00m logs]\n",
      "\u001b[0;31mAttributeError\u001b[0m: 'NoneType' object has no attribute 'groupdict'"
     ]
    }
   ],
   "source": [
    "regexp = r'''\n",
    "        (?P<method_reques>\\w+)\\s\n",
    "        (?P<path>.*?)\\s\\[\n",
    "        (?P<date>.*?)\\:.*?\\s\n",
    "        (?P<http_version>.*?)\\s\\{\n",
    "        (?P<response_code>d+)}\\s\n",
    "        (?P<size_bytes>\\d+)\\s\\\"\n",
    "        (?P<user_agent>.*?)\\\"\\s\n",
    "        (?P<ip_address>.*)\n",
    "        '''\n",
    "\n",
    "logs_parsed = [re.search(regexp, log, re.VERBOSE).groupdict() for log in logs] "
   ]
  },
  {
   "cell_type": "code",
   "execution_count": null,
   "metadata": {},
   "outputs": [],
   "source": [
    "pd.DataFrame(logs_parsed)"
   ]
  }
 ],
 "metadata": {
  "kernelspec": {
   "display_name": "Python 3.9.12 ('base')",
   "language": "python",
   "name": "python3"
  },
  "language_info": {
   "codemirror_mode": {
    "name": "ipython",
    "version": 3
   },
   "file_extension": ".py",
   "mimetype": "text/x-python",
   "name": "python",
   "nbconvert_exporter": "python",
   "pygments_lexer": "ipython3",
   "version": "3.9.12"
  },
  "orig_nbformat": 4,
  "vscode": {
   "interpreter": {
    "hash": "38cca0c38332a56087b24af0bc80247f4fced29cb4f7f437d91dc159adec9c4e"
   }
  }
 },
 "nbformat": 4,
 "nbformat_minor": 2
}
