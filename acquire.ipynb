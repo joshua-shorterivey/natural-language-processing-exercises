{
 "cells": [
  {
   "cell_type": "markdown",
   "metadata": {},
   "source": [
    "# Exercises\n",
    "\n",
    "* By the end of this exercise, you should have a file named acquire.py that contains the specified functions. If you wish, you may break your work into separate files for each website (e.g. acquire_codeup_blog.py and acquire_news_articles.py), but the end function should be present in acquire.py (that is, acquire.py should import get_blog_articles from the acquire_codeup_blog module.)\n",
    "\n"
   ]
  },
  {
   "cell_type": "markdown",
   "metadata": {},
   "source": [
    "# 1. Codeup Blog Articles\n",
    "\n",
    "* Visit Codeup's Blog and record the urls for at least 5 distinct blog posts. For each post, you should scrape at least the post's title and content.\n",
    "\n",
    "* Encapsulate your work in a function named get_blog_articles that will return a list of dictionaries, with each dictionary representing one article. The shape of each dictionary should look like this:\n",
    "\n",
    "        {\n",
    "            'title': 'the title of the article',\n",
    "            'content': 'the full text content of the article'\n",
    "        }\n",
    "Plus any additional properties you think might be helpful.\n",
    "\n"
   ]
  },
  {
   "cell_type": "code",
   "execution_count": 1,
   "metadata": {},
   "outputs": [],
   "source": [
    "import pandas as pd\n",
    "from requests import get\n",
    "from bs4 import BeautifulSoup as soupify"
   ]
  },
  {
   "cell_type": "code",
   "execution_count": 2,
   "metadata": {},
   "outputs": [],
   "source": [
    "url = 'https://codeup.com/blog/'\n",
    "header={'User-Agent': \"Codeup Data Science\"}"
   ]
  },
  {
   "cell_type": "code",
   "execution_count": 3,
   "metadata": {},
   "outputs": [
    {
     "data": {
      "text/plain": [
       "<Response [200]>"
      ]
     },
     "execution_count": 3,
     "metadata": {},
     "output_type": "execute_result"
    }
   ],
   "source": [
    "get(url, headers=header)"
   ]
  },
  {
   "cell_type": "code",
   "execution_count": 4,
   "metadata": {},
   "outputs": [],
   "source": [
    "soup = soupify(get(url, headers=header).content)"
   ]
  },
  {
   "cell_type": "code",
   "execution_count": 5,
   "metadata": {},
   "outputs": [
    {
     "data": {
      "text/plain": [
       "[<a class=\"more-link\" href=\"https://codeup.com/codeup-news/dei-report/\">read more</a>,\n",
       " <a class=\"more-link\" href=\"https://codeup.com/codeup-news/diversity-and-inclusion-award/\">read more</a>,\n",
       " <a class=\"more-link\" href=\"https://codeup.com/featured/financing-career-transition/\">read more</a>,\n",
       " <a class=\"more-link\" href=\"https://codeup.com/tips-for-prospective-students/tips-for-women/\">read more</a>,\n",
       " <a class=\"more-link\" href=\"https://codeup.com/cloud-administration/cloud-computing-and-aws/\">read more</a>,\n",
       " <a class=\"more-link\" href=\"https://codeup.com/codeup-news/c-suite-award-stephen-noteboom/\">read more</a>]"
      ]
     },
     "execution_count": 5,
     "metadata": {},
     "output_type": "execute_result"
    }
   ],
   "source": [
    "soup.find_all('a', class_='more-link')"
   ]
  },
  {
   "cell_type": "code",
   "execution_count": 6,
   "metadata": {},
   "outputs": [
    {
     "data": {
      "text/plain": [
       "'https://codeup.com/codeup-news/dei-report/'"
      ]
     },
     "execution_count": 6,
     "metadata": {},
     "output_type": "execute_result"
    }
   ],
   "source": [
    "soup.select('a.more-link')[0]['href']"
   ]
  },
  {
   "cell_type": "code",
   "execution_count": 7,
   "metadata": {},
   "outputs": [],
   "source": [
    "blog_posts = [link['href'] for link in soup.select('a.more-link')]"
   ]
  },
  {
   "cell_type": "code",
   "execution_count": 8,
   "metadata": {},
   "outputs": [],
   "source": [
    "#buil function --> grab article links\n",
    "def get_blog_urls(base_url, header={'User-Agent': \"Codeup Data Science\"}):\n",
    "    soup = soupify(get(url, headers=header).content)    \n",
    "\n",
    "    return [link['href'] for link in soup.select('a.more-link')]"
   ]
  },
  {
   "cell_type": "code",
   "execution_count": 9,
   "metadata": {},
   "outputs": [
    {
     "data": {
      "text/plain": [
       "['https://codeup.com/codeup-news/dei-report/',\n",
       " 'https://codeup.com/codeup-news/diversity-and-inclusion-award/',\n",
       " 'https://codeup.com/featured/financing-career-transition/',\n",
       " 'https://codeup.com/tips-for-prospective-students/tips-for-women/',\n",
       " 'https://codeup.com/cloud-administration/cloud-computing-and-aws/',\n",
       " 'https://codeup.com/codeup-news/c-suite-award-stephen-noteboom/']"
      ]
     },
     "execution_count": 9,
     "metadata": {},
     "output_type": "execute_result"
    }
   ],
   "source": [
    "get_blog_urls(url)"
   ]
  },
  {
   "cell_type": "code",
   "execution_count": 10,
   "metadata": {},
   "outputs": [],
   "source": [
    "#want to grab two tings , tigle and ocontent\n",
    "#find where each of the things live"
   ]
  },
  {
   "cell_type": "code",
   "execution_count": 11,
   "metadata": {},
   "outputs": [],
   "source": [
    "article_soup = soupify(get( \n",
    "    'https://codeup.com/codeup-news/dei-report/',\n",
    "    headers=header)\n",
    "    .content)"
   ]
  },
  {
   "cell_type": "code",
   "execution_count": 12,
   "metadata": {},
   "outputs": [
    {
     "data": {
      "text/plain": [
       "'Diversity Equity and Inclusion Report'"
      ]
     },
     "execution_count": 12,
     "metadata": {},
     "output_type": "execute_result"
    }
   ],
   "source": [
    "article_soup.select_one('h1.entry-title').text"
   ]
  },
  {
   "cell_type": "code",
   "execution_count": 13,
   "metadata": {},
   "outputs": [
    {
     "data": {
      "text/plain": [
       "'Codeup is excited to launch our first Diversity Equity, and Inclusion (DEI) report! In over eight years as an organization, we’ve implemented policies and grown our DEI efforts. We are extremely proud of the progress we’ve made as a staff and Codeup community, and we recognize there is more to learn. This report captures some of the ways that we’ve lived our value of Cultivating Inclusive Growth, and how we will continue doing so as we look to the future.\\nWe wanted to shine a light on the demographics of our students and staff, and in particular how that compares to the tech industry as a whole. How we collect, organize, and share employee demographic data is informed by standards set by the Equal Employment Opportunity Commission (EEOC).\\nWe are proud to celebrate how we’ve grown and are motivated and committed to do more and be better. To view the report visit the link here, or download it below.'"
      ]
     },
     "execution_count": 13,
     "metadata": {},
     "output_type": "execute_result"
    }
   ],
   "source": [
    "#now get article content\n",
    "article_soup.select_one('div.entry-content').text.strip()"
   ]
  },
  {
   "cell_type": "code",
   "execution_count": 14,
   "metadata": {},
   "outputs": [],
   "source": [
    "def get_blog_content(base_url):\n",
    "    all_blogs = []\n",
    "    blog_links = get_blog_urls(base_url)\n",
    "    for blog in blog_links:\n",
    "        blog_soup = soupify(\n",
    "            get(blog, \n",
    "            headeres=header).content)\n",
    "        {'title': blog_soup.select_one('h1.entry-title').text,\n",
    "        'content': blog_soup.select_one('div.entry-content').text.strip()}\n",
    "        all_blogs.append(blog)\n",
    "\n",
    "    return all_blogs"
   ]
  },
  {
   "cell_type": "markdown",
   "metadata": {},
   "source": [
    "\n",
    "## Bonus: Scrape the text of all the articles linked on codeup's blog page.\n",
    "\n"
   ]
  },
  {
   "cell_type": "code",
   "execution_count": null,
   "metadata": {},
   "outputs": [],
   "source": []
  },
  {
   "cell_type": "markdown",
   "metadata": {},
   "source": [
    "# 2. News Articles\n",
    "\n",
    "We will now be scraping text data from inshorts, a website that provides a brief overview of many different topics.\n",
    "\n",
    "Write a function that scrapes the news articles for the following topics:\n",
    "\n",
    "Business\n",
    "Sports\n",
    "Technology\n",
    "Entertainment\n",
    "The end product of this should be a function named get_news_articles that returns a list of dictionaries, where each dictionary has this shape:\n",
    "\n",
    "\n",
    "{\n",
    "    'title': 'The article title',\n",
    "    'content': 'The article content',\n",
    "    'category': 'business' # for example\n",
    "}\n",
    "Hints:\n",
    "\n",
    "Start by inspecting the website in your browser. Figure out which elements will be useful.\n",
    "Start by creating a function that handles a single article and produces a dictionary like the one above.\n",
    "Next create a function that will find all the articles on a single page and call the function you created in the last step for every article on the page.\n",
    "Now create a function that will use the previous two functions to scrape the articles from all the pages that you need, and do any additional processing that needs to be done.\n",
    "Bonus: cache the data\n",
    "\n",
    "Write your code such that the acquired data is saved locally in some form or fashion. Your functions that retrieve the data should prefer to read the local data instead of having to make all the requests everytime the function is called. Include a boolean flag in the functions to allow the data to be acquired \"fresh\" from the actual sources (re-writing your local cache)."
   ]
  },
  {
   "cell_type": "code",
   "execution_count": 15,
   "metadata": {},
   "outputs": [],
   "source": [
    "url='https://inshorts.com/en/read'\n",
    "soup=soupify(get(url).content)\n"
   ]
  },
  {
   "cell_type": "code",
   "execution_count": 16,
   "metadata": {},
   "outputs": [
    {
     "data": {
      "text/plain": [
       "'india'"
      ]
     },
     "execution_count": 16,
     "metadata": {},
     "output_type": "execute_result"
    }
   ],
   "source": [
    "soup.find_all('li')[1].text.lower()"
   ]
  },
  {
   "cell_type": "code",
   "execution_count": null,
   "metadata": {},
   "outputs": [],
   "source": []
  },
  {
   "cell_type": "code",
   "execution_count": 17,
   "metadata": {},
   "outputs": [
    {
     "data": {
      "text/plain": [
       "'https://inshorts.com/en/read/india'"
      ]
     },
     "execution_count": 17,
     "metadata": {},
     "output_type": "execute_result"
    }
   ],
   "source": [
    "url + '/' + soup.find_all('li')[1].text.lower()"
   ]
  },
  {
   "cell_type": "code",
   "execution_count": 18,
   "metadata": {},
   "outputs": [],
   "source": [
    "def get_cats (base_url):\n",
    "    soup = soupify(get(base_url).content)\n",
    "    return [cat.text.lower() for cat in soup.find_all('li')[1:]]"
   ]
  },
  {
   "cell_type": "code",
   "execution_count": 28,
   "metadata": {},
   "outputs": [
    {
     "data": {
      "text/plain": [
       "['india',\n",
       " 'business',\n",
       " 'sports',\n",
       " 'world',\n",
       " 'politics',\n",
       " 'technology',\n",
       " 'startup',\n",
       " 'entertainment',\n",
       " 'miscellaneous',\n",
       " 'hatke',\n",
       " 'science',\n",
       " 'automobile']"
      ]
     },
     "execution_count": 28,
     "metadata": {},
     "output_type": "execute_result"
    }
   ],
   "source": [
    "get_cats(url)"
   ]
  },
  {
   "cell_type": "code",
   "execution_count": 19,
   "metadata": {},
   "outputs": [],
   "source": [
    "cat_url = url + '/' + 'science'"
   ]
  },
  {
   "cell_type": "code",
   "execution_count": 29,
   "metadata": {},
   "outputs": [],
   "source": [
    "cat_soup = soupify(get(cat_url).content)\n",
    "\n"
   ]
  },
  {
   "cell_type": "code",
   "execution_count": 32,
   "metadata": {},
   "outputs": [
    {
     "data": {
      "text/plain": [
       "'New species of beetle named after Novak Djokovic'"
      ]
     },
     "execution_count": 32,
     "metadata": {},
     "output_type": "execute_result"
    }
   ],
   "source": [
    "cat_soup.find_all('span', itemprop='headline')[0].text\n"
   ]
  },
  {
   "cell_type": "code",
   "execution_count": 35,
   "metadata": {},
   "outputs": [],
   "source": [
    "def get_all_shorts(base_url):\n",
    "    cats = get_cats(base_url)\n",
    "    all_articles = []\n",
    "    for cat in cats:\n",
    "        cat_url = base_url + '/' + cat\n",
    "        cat_soup = soupify(get(cat_url).content)\n",
    "        cat_titles = [title.text for title in cat_soup\n",
    "                    .find_all('span', itemprop='headline')]\n",
    "        cat_bodies = [body.text for body in cat_soup\n",
    "                    .find_all('div', itemprop='articleBody')]\n",
    "        cat_articles = [{'title': title, \n",
    "                        'category': cat,\n",
    "                        'body': body} for title, body in zip(\n",
    "                            cat_titles, cat_bodies\n",
    "                        )]\n",
    "        print(len(cat_articles))\n",
    "        all_articles.extend(cat_articles)\n",
    "\n",
    "    return all_articles"
   ]
  },
  {
   "cell_type": "code",
   "execution_count": 36,
   "metadata": {},
   "outputs": [
    {
     "name": "stdout",
     "output_type": "stream",
     "text": [
      "12\n",
      "25\n",
      "25\n",
      "25\n",
      "25\n",
      "24\n",
      "25\n",
      "25\n",
      "24\n",
      "25\n",
      "25\n",
      "24\n"
     ]
    }
   ],
   "source": [
    "all_articles = get_all_shorts(url)"
   ]
  },
  {
   "cell_type": "code",
   "execution_count": 37,
   "metadata": {},
   "outputs": [],
   "source": [
    "all_articles = pd.DataFrame(all_articles)"
   ]
  },
  {
   "cell_type": "code",
   "execution_count": 38,
   "metadata": {},
   "outputs": [
    {
     "data": {
      "text/html": [
       "<div>\n",
       "<style scoped>\n",
       "    .dataframe tbody tr th:only-of-type {\n",
       "        vertical-align: middle;\n",
       "    }\n",
       "\n",
       "    .dataframe tbody tr th {\n",
       "        vertical-align: top;\n",
       "    }\n",
       "\n",
       "    .dataframe thead th {\n",
       "        text-align: right;\n",
       "    }\n",
       "</style>\n",
       "<table border=\"1\" class=\"dataframe\">\n",
       "  <thead>\n",
       "    <tr style=\"text-align: right;\">\n",
       "      <th></th>\n",
       "      <th>title</th>\n",
       "      <th>category</th>\n",
       "      <th>body</th>\n",
       "    </tr>\n",
       "  </thead>\n",
       "  <tbody>\n",
       "    <tr>\n",
       "      <th>0</th>\n",
       "      <td>Oldest woman in India passes away</td>\n",
       "      <td>india</td>\n",
       "      <td>Kunjannam, a 112-yr-old woman from Parannur (K...</td>\n",
       "    </tr>\n",
       "    <tr>\n",
       "      <th>1</th>\n",
       "      <td>Zimbabwe players ask India for cricketing tips</td>\n",
       "      <td>india</td>\n",
       "      <td>After getting thrashed by India by 5-0 in the ...</td>\n",
       "    </tr>\n",
       "    <tr>\n",
       "      <th>2</th>\n",
       "      <td>Samsung launches Galaxy Star 2 Plus at Rs.7,335</td>\n",
       "      <td>india</td>\n",
       "      <td>Samsung has unveiled the Galaxy start 2 Plus s...</td>\n",
       "    </tr>\n",
       "    <tr>\n",
       "      <th>3</th>\n",
       "      <td>Indian Navy gets VLF, easy communication with ...</td>\n",
       "      <td>india</td>\n",
       "      <td>The Indian navy has a new communication system...</td>\n",
       "    </tr>\n",
       "    <tr>\n",
       "      <th>4</th>\n",
       "      <td>India beat NZ 3-2 to enter CWG hockey finals</td>\n",
       "      <td>india</td>\n",
       "      <td>In the CWG men's hockey semi-final against New...</td>\n",
       "    </tr>\n",
       "    <tr>\n",
       "      <th>...</th>\n",
       "      <td>...</td>\n",
       "      <td>...</td>\n",
       "      <td>...</td>\n",
       "    </tr>\n",
       "    <tr>\n",
       "      <th>279</th>\n",
       "      <td>Increased repo rate big dampener for us: Autom...</td>\n",
       "      <td>automobile</td>\n",
       "      <td>Federation of Automobile Dealers Associations ...</td>\n",
       "    </tr>\n",
       "    <tr>\n",
       "      <th>280</th>\n",
       "      <td>China's Geely buys 7.6% stake in Aston Martin</td>\n",
       "      <td>automobile</td>\n",
       "      <td>China-based Zhejiang Geely announced on Friday...</td>\n",
       "    </tr>\n",
       "    <tr>\n",
       "      <th>281</th>\n",
       "      <td>TVS Motor beats Hero MotoCorp to become 6th mo...</td>\n",
       "      <td>automobile</td>\n",
       "      <td>TVS Motor Company Limited has become the sixth...</td>\n",
       "    </tr>\n",
       "    <tr>\n",
       "      <th>282</th>\n",
       "      <td>Record 5.4 lakh vehicles sold during Navratri ...</td>\n",
       "      <td>automobile</td>\n",
       "      <td>Federation of Automobile Dealers Associations ...</td>\n",
       "    </tr>\n",
       "    <tr>\n",
       "      <th>283</th>\n",
       "      <td>Porsche becomes Europe's most valuable automak...</td>\n",
       "      <td>automobile</td>\n",
       "      <td>Porsche overtook parent company Volkswagen to ...</td>\n",
       "    </tr>\n",
       "  </tbody>\n",
       "</table>\n",
       "<p>284 rows × 3 columns</p>\n",
       "</div>"
      ],
      "text/plain": [
       "                                                 title    category  \\\n",
       "0                    Oldest woman in India passes away       india   \n",
       "1       Zimbabwe players ask India for cricketing tips       india   \n",
       "2      Samsung launches Galaxy Star 2 Plus at Rs.7,335       india   \n",
       "3    Indian Navy gets VLF, easy communication with ...       india   \n",
       "4         India beat NZ 3-2 to enter CWG hockey finals       india   \n",
       "..                                                 ...         ...   \n",
       "279  Increased repo rate big dampener for us: Autom...  automobile   \n",
       "280      China's Geely buys 7.6% stake in Aston Martin  automobile   \n",
       "281  TVS Motor beats Hero MotoCorp to become 6th mo...  automobile   \n",
       "282  Record 5.4 lakh vehicles sold during Navratri ...  automobile   \n",
       "283  Porsche becomes Europe's most valuable automak...  automobile   \n",
       "\n",
       "                                                  body  \n",
       "0    Kunjannam, a 112-yr-old woman from Parannur (K...  \n",
       "1    After getting thrashed by India by 5-0 in the ...  \n",
       "2    Samsung has unveiled the Galaxy start 2 Plus s...  \n",
       "3    The Indian navy has a new communication system...  \n",
       "4    In the CWG men's hockey semi-final against New...  \n",
       "..                                                 ...  \n",
       "279  Federation of Automobile Dealers Associations ...  \n",
       "280  China-based Zhejiang Geely announced on Friday...  \n",
       "281  TVS Motor Company Limited has become the sixth...  \n",
       "282  Federation of Automobile Dealers Associations ...  \n",
       "283  Porsche overtook parent company Volkswagen to ...  \n",
       "\n",
       "[284 rows x 3 columns]"
      ]
     },
     "execution_count": 38,
     "metadata": {},
     "output_type": "execute_result"
    }
   ],
   "source": [
    "all_articles"
   ]
  }
 ],
 "metadata": {
  "kernelspec": {
   "display_name": "Python 3.9.12 ('base')",
   "language": "python",
   "name": "python3"
  },
  "language_info": {
   "codemirror_mode": {
    "name": "ipython",
    "version": 3
   },
   "file_extension": ".py",
   "mimetype": "text/x-python",
   "name": "python",
   "nbconvert_exporter": "python",
   "pygments_lexer": "ipython3",
   "version": "3.9.12"
  },
  "orig_nbformat": 4,
  "vscode": {
   "interpreter": {
    "hash": "38cca0c38332a56087b24af0bc80247f4fced29cb4f7f437d91dc159adec9c4e"
   }
  }
 },
 "nbformat": 4,
 "nbformat_minor": 2
}
