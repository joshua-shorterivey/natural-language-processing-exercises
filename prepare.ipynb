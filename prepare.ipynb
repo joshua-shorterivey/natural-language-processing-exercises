{
 "cells": [
  {
   "cell_type": "markdown",
   "id": "b097c195",
   "metadata": {},
   "source": [
    "Exercises\n",
    "\n",
    "The end result of this exercise should be a file named prepare.py that defines the requested functions.\n",
    "\n",
    "In this exercise we will be defining some functions to prepare textual data. These functions should apply equally well to both the codeup blog articles and the news articles that were previously acquired.\n",
    "\n"
   ]
  },
  {
   "cell_type": "code",
   "execution_count": 7,
   "id": "7234b793",
   "metadata": {},
   "outputs": [],
   "source": [
    "from bs4 import BeautifulSoup as soupify\n",
    "from os import path\n",
    "import pandas as pd\n",
    "import numpy as np"
   ]
  },
  {
   "cell_type": "code",
   "execution_count": 8,
   "id": "fb4efe64",
   "metadata": {},
   "outputs": [],
   "source": [
    "# function for curriculum\n",
    "def get_article_text():\n",
    "    # if we already have the data, read it locally\n",
    "    if path.exists('article.txt'):\n",
    "        with open('article.txt') as f:\n",
    "            return f.read()\n",
    "\n",
    "    # otherwise go fetch the data\n",
    "    url = 'https://codeup.com/data-science/math-in-data-science/'\n",
    "    headers = {'User-Agent': 'Codeup Data Science'}\n",
    "    response = get(url, headers=headers)\n",
    "    soup = soupify(response.text)\n",
    "    article = soup.find('div', id='main-content')\n",
    "\n",
    "    # save it for next time\n",
    "    with open('article.txt', 'w') as f:\n",
    "        f.write(article.text)\n",
    "\n",
    "    return article.text"
   ]
  },
  {
   "cell_type": "markdown",
   "id": "ec2e5d11",
   "metadata": {},
   "source": [
    "Define a function named basic_clean. It should take in a string and apply some basic text cleaning to it:\n",
    "\n",
    "Lowercase everything\n",
    "Normalize unicode characters\n",
    "Replace anything that is not a letter, number, whitespace or a single quote.\n"
   ]
  },
  {
   "cell_type": "code",
   "execution_count": 9,
   "id": "8b44ad7a",
   "metadata": {},
   "outputs": [],
   "source": [
    "original = get_article_text()"
   ]
  },
  {
   "cell_type": "code",
   "execution_count": 15,
   "id": "66f1597c",
   "metadata": {},
   "outputs": [],
   "source": [
    "\n",
    "import re\n",
    "import unicodedata\n",
    "\n",
    "\n",
    "def basic_clean(text):\n",
    "    '''\n",
    "    '''\n",
    "    text = text.lower()\n",
    "\n",
    "    text = unicodedata.normalize('NFKD', text)\\\n",
    "                        .encode('ascii', 'ignore')\\\n",
    "                        .decode('utf-8', 'ignore')\n",
    "    \n",
    "    text = re.sub(r\"[^a-z0-9'\\s]\", '', text)\n",
    "    return text"
   ]
  },
  {
   "cell_type": "code",
   "execution_count": 19,
   "id": "d79ba99c",
   "metadata": {},
   "outputs": [
    {
     "name": "stdout",
     "output_type": "stream",
     "text": [
      "\n",
      "\n",
      "\n",
      "\n",
      "\n",
      "\n",
      "what are the math and stats principles you need for data science\n",
      "oct 21 2020  data science\n",
      "\n",
      "\n",
      "coming into our data science program you will need to know some math and stats however many of our applicants actually learn in the application process  you dont need to be an expert before applying data science is a very accessible field to anyone dedicated to learning new skills and we can work with any applicant to help them learn what they need to know but what skills do we mean exactly just what exactly are the data science math and stats principles you need to know\n",
      "what are the main math principles you need to know to get into codeups data science program\n",
      "\n",
      "\n",
      "algebra\n",
      "do you know pemdas and can you solve for x you will need to be or become comfortable with the following \n",
      "\n",
      "variables x y n etc\n",
      "formulas functions and variable manipulations eg x2  x  6 solve for x\n",
      "order of evaluation pemdas parentheses exponents then multiplication division addition and subtraction\n",
      "commutativity where a  b  b  a\n",
      "associativity where a  b  c  a  b  c\n",
      "adding and subtracting matrices\n",
      "a conceptual understanding of exponential growthdecay things can increase at an increasing rate\n",
      "\n",
      "descriptive statistics\n",
      "know what a min max mode median and average are have a conceptual understanding that statsprobability is about trying to quantify uncertainty\n",
      "data visualization\n",
      "know what a scatterplot is and how to read a barplot\n",
      "how to learn and expand on these concepts\n",
      "there are a number of great resources out there to teach you these and similar concepts khan academy is a great starting place for data science math if you want to know what exactly we assign our applicants youll just have to apply\n",
      " \n",
      "what about once youre in codeup\n",
      "\n",
      "\n",
      "what you wont do\n",
      "do we do any mathematical proofs for concepts or perform derivations no \n",
      "do we do any calculus and probability calculating by hand no\n",
      "are we transforming equations where we cancel out units or terms and do lots of algebraic gymnastics no\n",
      "what you will do\n",
      "will we have python solve our linear algebra problems for us yes\n",
      "will we have python calculate probabilities the area under a curve and the slope of a line for us yes\n",
      "will we have python do all of the calculus for us yes\n",
      " \n",
      "see the data science math and stats slice of the pie is certainly doable if you like problemsolving and are ready to challenge yourself youll love data science if you are interested in learning about data science just apply our admissions manager can work with you to get you where you need to be starting from where you are now let us help you get there so you can launch a great new career\n",
      "\n",
      "\n",
      "\n",
      "\n",
      "\n",
      "\n",
      "\n",
      "\n",
      "our programscloud administration\n",
      "full stack web development\n",
      "data science\n",
      "\n",
      "\n",
      "\n",
      "\n",
      "\n",
      "latest blog articles\n",
      "diversity equity and inclusion report\n",
      "codeup honored as sabj diversity and inclusion award winner\n",
      "how can i finance my career transition\n",
      "tips for women beginning a career in tech\n",
      "what is cloud computing and aws\n",
      "\n",
      "\n",
      "\n",
      "\n",
      "\n",
      "\n",
      "\n",
      "\n",
      "\n",
      "\n",
      "\n",
      "\n",
      "\n",
      "\n",
      "\n",
      "\n",
      "\n",
      " \n",
      "\n",
      "\n",
      "\n"
     ]
    },
    {
     "data": {
      "text/plain": [
       "'\\n\\n\\n\\n\\n\\nwhat are the math and stats principles you need for data science\\noct 21 2020  data science\\n\\n\\ncoming into our data science program you will need to know some math and stats however many of our applicants actually learn in the application process  you dont need to be an expert before applying data science is a very accessible field to anyone dedicated to learning new skills and we can work with any applicant to help them learn what they need to know but what skills do we mean exactly just what exactly are the data science math and stats principles you need to know\\nwhat are the main math principles you need to know to get into codeups data science program\\n\\n\\nalgebra\\ndo you know pemdas and can you solve for x you will need to be or become comfortable with the following \\n\\nvariables x y n etc\\nformulas functions and variable manipulations eg x2  x  6 solve for x\\norder of evaluation pemdas parentheses exponents then multiplication division addition and subtraction\\ncommutativity where a  b  b  a\\nassociativity where a  b  c  a  b  c\\nadding and subtracting matrices\\na conceptual understanding of exponential growthdecay things can increase at an increasing rate\\n\\ndescriptive statistics\\nknow what a min max mode median and average are have a conceptual understanding that statsprobability is about trying to quantify uncertainty\\ndata visualization\\nknow what a scatterplot is and how to read a barplot\\nhow to learn and expand on these concepts\\nthere are a number of great resources out there to teach you these and similar concepts khan academy is a great starting place for data science math if you want to know what exactly we assign our applicants youll just have to apply\\n \\nwhat about once youre in codeup\\n\\n\\nwhat you wont do\\ndo we do any mathematical proofs for concepts or perform derivations no \\ndo we do any calculus and probability calculating by hand no\\nare we transforming equations where we cancel out units or terms and do lots of algebraic gymnastics no\\nwhat you will do\\nwill we have python solve our linear algebra problems for us yes\\nwill we have python calculate probabilities the area under a curve and the slope of a line for us yes\\nwill we have python do all of the calculus for us yes\\n \\nsee the data science math and stats slice of the pie is certainly doable if you like problemsolving and are ready to challenge yourself youll love data science if you are interested in learning about data science just apply our admissions manager can work with you to get you where you need to be starting from where you are now let us help you get there so you can launch a great new career\\n\\n\\n\\n\\n\\n\\n\\n\\nour programscloud administration\\nfull stack web development\\ndata science\\n\\n\\n\\n\\n\\nlatest blog articles\\ndiversity equity and inclusion report\\ncodeup honored as sabj diversity and inclusion award winner\\nhow can i finance my career transition\\ntips for women beginning a career in tech\\nwhat is cloud computing and aws\\n\\n\\n\\n\\n\\n\\n\\n\\n\\n\\n\\n\\n\\n\\n\\n\\n\\n \\n\\n\\n'"
      ]
     },
     "execution_count": 19,
     "metadata": {},
     "output_type": "execute_result"
    }
   ],
   "source": [
    "cleaned = basic_clean(original)\n",
    "cleaned"
   ]
  },
  {
   "cell_type": "markdown",
   "id": "77e58e81",
   "metadata": {},
   "source": [
    "Define a function named tokenize. It should take in a string and tokenize all the words in the string.\n",
    "\n"
   ]
  },
  {
   "cell_type": "code",
   "execution_count": 21,
   "id": "dca019ad",
   "metadata": {},
   "outputs": [],
   "source": [
    "from nltk.tokenize.toktok import ToktokTokenizer\n",
    "\n",
    "def tokenize(text):\n",
    "    \"\"\" \n",
    "    Purpose:\n",
    "        takes a string and tokenizes all words in t\n",
    "    ---\n",
    "    Parameters:\n",
    "        \n",
    "    ---\n",
    "    Returns:\n",
    "    \n",
    "    \"\"\" \n",
    "    tokenizer = ToktokTokenizer()\n",
    "\n",
    "    text = tokenizer.tokenize(text, return_str=True)\n",
    "\n",
    "    return text "
   ]
  },
  {
   "cell_type": "code",
   "execution_count": 22,
   "id": "db50b2b0",
   "metadata": {},
   "outputs": [
    {
     "data": {
      "text/plain": [
       "'what are the math and stats principles you need for data science\\noct 21 2020 data science\\n\\n\\ncoming into our data science program you will need to know some math and stats however many of our applicants actually learn in the application process you dont need to be an expert before applying data science is a very accessible field to anyone dedicated to learning new skills and we can work with any applicant to help them learn what they need to know but what skills do we mean exactly just what exactly are the data science math and stats principles you need to know\\nwhat are the main math principles you need to know to get into codeups data science program\\n\\n\\nalgebra\\ndo you know pemdas and can you solve for x you will need to be or become comfortable with the following \\n\\nvariables x y n etc\\nformulas functions and variable manipulations eg x2 x 6 solve for x\\norder of evaluation pemdas parentheses exponents then multiplication division addition and subtraction\\ncommutativity where a b b a\\nassociativity where a b c a b c\\nadding and subtracting matrices\\na conceptual understanding of exponential growthdecay things can increase at an increasing rate\\n\\ndescriptive statistics\\nknow what a min max mode median and average are have a conceptual understanding that statsprobability is about trying to quantify uncertainty\\ndata visualization\\nknow what a scatterplot is and how to read a barplot\\nhow to learn and expand on these concepts\\nthere are a number of great resources out there to teach you these and similar concepts khan academy is a great starting place for data science math if you want to know what exactly we assign our applicants youll just have to apply\\n \\nwhat about once youre in codeup\\n\\n\\nwhat you wont do\\ndo we do any mathematical proofs for concepts or perform derivations no \\ndo we do any calculus and probability calculating by hand no\\nare we transforming equations where we cancel out units or terms and do lots of algebraic gymnastics no\\nwhat you will do\\nwill we have python solve our linear algebra problems for us yes\\nwill we have python calculate probabilities the area under a curve and the slope of a line for us yes\\nwill we have python do all of the calculus for us yes\\n \\nsee the data science math and stats slice of the pie is certainly doable if you like problemsolving and are ready to challenge yourself youll love data science if you are interested in learning about data science just apply our admissions manager can work with you to get you where you need to be starting from where you are now let us help you get there so you can launch a great new career\\n\\n\\n\\n\\n\\n\\n\\n\\nour programscloud administration\\nfull stack web development\\ndata science\\n\\n\\n\\n\\n\\nlatest blog articles\\ndiversity equity and inclusion report\\ncodeup honored as sabj diversity and inclusion award winner\\nhow can i finance my career transition\\ntips for women beginning a career in tech\\nwhat is cloud computing and aws'"
      ]
     },
     "execution_count": 22,
     "metadata": {},
     "output_type": "execute_result"
    }
   ],
   "source": [
    "tokenized = tokenize(cleaned)\n",
    "tokenized"
   ]
  },
  {
   "cell_type": "markdown",
   "id": "e675b1b3",
   "metadata": {},
   "source": [
    "Define a function named stem. It should accept some text and return the text after applying stemming to all the words.\n",
    "\n"
   ]
  },
  {
   "cell_type": "code",
   "execution_count": 26,
   "id": "5fc51907",
   "metadata": {},
   "outputs": [],
   "source": [
    "from nltk import PorterStemmer\n",
    "\n",
    "def stem(text):\n",
    "    \"\"\" \n",
    "    Purpose:\n",
    "        to apply stemming to input text\n",
    "    ---\n",
    "    Parameters:\n",
    "        text: the text to be stemmed\n",
    "    ---\n",
    "    Returns:\n",
    "        text: text that has had stemming applied to it\n",
    "    \"\"\"\n",
    "\n",
    "    #create the nltk stemmer object\n",
    "    ps = PorterStemmer()    \n",
    "\n",
    "    stems = [ps.stem(word) for word in text.split()]\n",
    "    text = ' '.join(stems)\n",
    "\n",
    "    return text"
   ]
  },
  {
   "cell_type": "code",
   "execution_count": 27,
   "id": "0231f9f1",
   "metadata": {},
   "outputs": [
    {
     "data": {
      "text/plain": [
       "'what are the math and stat principl you need for data scienc oct 21 2020 data scienc come into our data scienc program you will need to know some math and stat howev mani of our applic actual learn in the applic process you dont need to be an expert befor appli data scienc is a veri access field to anyon dedic to learn new skill and we can work with ani applic to help them learn what they need to know but what skill do we mean exactli just what exactli are the data scienc math and stat principl you need to know what are the main math principl you need to know to get into codeup data scienc program algebra do you know pemda and can you solv for x you will need to be or becom comfort with the follow variabl x y n etc formula function and variabl manipul eg x2 x 6 solv for x order of evalu pemda parenthes expon then multipl divis addit and subtract commut where a b b a associ where a b c a b c ad and subtract matric a conceptu understand of exponenti growthdecay thing can increas at an increas rate descript statist know what a min max mode median and averag are have a conceptu understand that statsprob is about tri to quantifi uncertainti data visual know what a scatterplot is and how to read a barplot how to learn and expand on these concept there are a number of great resourc out there to teach you these and similar concept khan academi is a great start place for data scienc math if you want to know what exactli we assign our applic youll just have to appli what about onc your in codeup what you wont do do we do ani mathemat proof for concept or perform deriv no do we do ani calculu and probabl calcul by hand no are we transform equat where we cancel out unit or term and do lot of algebra gymnast no what you will do will we have python solv our linear algebra problem for us ye will we have python calcul probabl the area under a curv and the slope of a line for us ye will we have python do all of the calculu for us ye see the data scienc math and stat slice of the pie is certainli doabl if you like problemsolv and are readi to challeng yourself youll love data scienc if you are interest in learn about data scienc just appli our admiss manag can work with you to get you where you need to be start from where you are now let us help you get there so you can launch a great new career our programscloud administr full stack web develop data scienc latest blog articl divers equiti and inclus report codeup honor as sabj divers and inclus award winner how can i financ my career transit tip for women begin a career in tech what is cloud comput and aw'"
      ]
     },
     "execution_count": 27,
     "metadata": {},
     "output_type": "execute_result"
    }
   ],
   "source": [
    "stemmed = stem(tokenized)\n",
    "stemmed"
   ]
  },
  {
   "cell_type": "markdown",
   "id": "ca132b42",
   "metadata": {},
   "source": [
    "Define a function named lemmatize. It should accept some text and return the text after applying lemmatization to each word.\n",
    "\n"
   ]
  },
  {
   "cell_type": "code",
   "execution_count": 28,
   "id": "e653fbfb",
   "metadata": {},
   "outputs": [],
   "source": [
    "from nltk import WordNetLemmatizer\n",
    "def lemmatize(text):\n",
    "    \"\"\" \n",
    "    Purpose:\n",
    "        applies lemmatization to input text \n",
    "    ---\n",
    "    Parameters:\n",
    "        text: the text to be lemmatized\n",
    "    ---\n",
    "    Returns:\n",
    "        text: text that has been lemmatized\n",
    "    \"\"\"\n",
    "    #create lemmatize object\n",
    "    wnl = WordNetLemmatizer()\n",
    "\n",
    "    lemmas = [wnl.lemmatize(word) for word in text.split()]\n",
    "    text = ' '.join(lemmas)\n",
    "\n",
    "    return text\n",
    "\n"
   ]
  },
  {
   "cell_type": "code",
   "execution_count": 30,
   "id": "537b7b25",
   "metadata": {},
   "outputs": [
    {
     "data": {
      "text/plain": [
       "'what are the math and stats principle you need for data science oct 21 2020 data science coming into our data science program you will need to know some math and stats however many of our applicant actually learn in the application process you dont need to be an expert before applying data science is a very accessible field to anyone dedicated to learning new skill and we can work with any applicant to help them learn what they need to know but what skill do we mean exactly just what exactly are the data science math and stats principle you need to know what are the main math principle you need to know to get into codeups data science program algebra do you know pemdas and can you solve for x you will need to be or become comfortable with the following variable x y n etc formula function and variable manipulation eg x2 x 6 solve for x order of evaluation pemdas parenthesis exponent then multiplication division addition and subtraction commutativity where a b b a associativity where a b c a b c adding and subtracting matrix a conceptual understanding of exponential growthdecay thing can increase at an increasing rate descriptive statistic know what a min max mode median and average are have a conceptual understanding that statsprobability is about trying to quantify uncertainty data visualization know what a scatterplot is and how to read a barplot how to learn and expand on these concept there are a number of great resource out there to teach you these and similar concept khan academy is a great starting place for data science math if you want to know what exactly we assign our applicant youll just have to apply what about once youre in codeup what you wont do do we do any mathematical proof for concept or perform derivation no do we do any calculus and probability calculating by hand no are we transforming equation where we cancel out unit or term and do lot of algebraic gymnastics no what you will do will we have python solve our linear algebra problem for u yes will we have python calculate probability the area under a curve and the slope of a line for u yes will we have python do all of the calculus for u yes see the data science math and stats slice of the pie is certainly doable if you like problemsolving and are ready to challenge yourself youll love data science if you are interested in learning about data science just apply our admission manager can work with you to get you where you need to be starting from where you are now let u help you get there so you can launch a great new career our programscloud administration full stack web development data science latest blog article diversity equity and inclusion report codeup honored a sabj diversity and inclusion award winner how can i finance my career transition tip for woman beginning a career in tech what is cloud computing and aws'"
      ]
     },
     "execution_count": 30,
     "metadata": {},
     "output_type": "execute_result"
    }
   ],
   "source": [
    "lemmatized = lemmatize(cleaned)\n",
    "\n",
    "lemmatized"
   ]
  },
  {
   "cell_type": "markdown",
   "id": "6bee200b",
   "metadata": {},
   "source": [
    "Define a function named remove_stopwords. It should accept some text and return the text after removing all the stopwords.\n",
    "\n",
    "This function should define two optional parameters, extra_words and exclude_words. These parameters should define any additional stop words to include, and any words that we don't want to remove.\n",
    "\n"
   ]
  },
  {
   "cell_type": "code",
   "execution_count": 33,
   "id": "134a61fa",
   "metadata": {},
   "outputs": [],
   "source": [
    "from nltk.corpus import stopwords\n",
    "\n",
    "def remove_stopwords(text, extra_words=None, exclude_words=None):\n",
    "    \"\"\" \n",
    "    Purpose:\n",
    "        to remove stopwords from input text \n",
    "    ---\n",
    "    Parameters:\n",
    "        text: text from which to remove stop words\n",
    "    ---\n",
    "    Returns:\n",
    "        text: text that has had stopwords removed\n",
    "    \"\"\"\n",
    "\n",
    "    stopwords_list = stopwords.words('english')\n",
    "\n",
    "    if extra_words != None:\n",
    "        stopwords_list.extend(extra_words)\n",
    "\n",
    "    if exclude_words != None:\n",
    "        for w in exclude_words:\n",
    "            stopwords_list.remove(w)\n",
    "\n",
    "    words = text.split()\n",
    "\n",
    "    filtered_words = [w for w in words if w not in stopwords_list]\n",
    "\n",
    "    print('Removed {} stopwords'.format(len(words) - len(filtered_words)))\n",
    "    print('---')\n",
    "\n",
    "    text = ' '.join(filtered_words)\n",
    "\n",
    "    return text\n"
   ]
  },
  {
   "cell_type": "code",
   "execution_count": 34,
   "id": "bd24c774",
   "metadata": {},
   "outputs": [
    {
     "name": "stdout",
     "output_type": "stream",
     "text": [
      "Removed 241 stopwords\n",
      "---\n"
     ]
    },
    {
     "data": {
      "text/plain": [
       "'math stats principle need data science oct 21 2020 data science coming data science program need know math stats however many applicant actually learn application process dont need expert applying data science accessible field anyone dedicated learning new skill work applicant help learn need know skill mean exactly exactly data science math stats principle need know main math principle need know get codeups data science program algebra know pemdas solve x need become comfortable following variable x n etc formula function variable manipulation eg x2 x 6 solve x order evaluation pemdas parenthesis exponent multiplication division addition subtraction commutativity b b associativity b c b c adding subtracting matrix conceptual understanding exponential growthdecay thing increase increasing rate descriptive statistic know min max mode median average conceptual understanding statsprobability trying quantify uncertainty data visualization know scatterplot read barplot learn expand concept number great resource teach similar concept khan academy great starting place data science math want know exactly assign applicant youll apply youre codeup wont mathematical proof concept perform derivation calculus probability calculating hand transforming equation cancel unit term lot algebraic gymnastics python solve linear algebra problem u yes python calculate probability area curve slope line u yes python calculus u yes see data science math stats slice pie certainly doable like problemsolving ready challenge youll love data science interested learning data science apply admission manager work get need starting let u help get launch great new career programscloud administration full stack web development data science latest blog article diversity equity inclusion report codeup honored sabj diversity inclusion award winner finance career transition tip woman beginning career tech cloud computing aws'"
      ]
     },
     "execution_count": 34,
     "metadata": {},
     "output_type": "execute_result"
    }
   ],
   "source": [
    "finished = remove_stopwords(lemmatized)\n",
    "finished"
   ]
  },
  {
   "cell_type": "markdown",
   "id": "0d3d5186",
   "metadata": {},
   "source": [
    "Use your data from the acquire to produce a dataframe of the news articles. Name the dataframe news_df.\n",
    "\n"
   ]
  },
  {
   "cell_type": "code",
   "execution_count": null,
   "id": "7fae119a",
   "metadata": {},
   "outputs": [],
   "source": [
    "articles = acquire.get_news_articles()"
   ]
  },
  {
   "cell_type": "code",
   "execution_count": null,
   "id": "91216183",
   "metadata": {},
   "outputs": [],
   "source": [
    "news_df = pd.Dataframe(articles)"
   ]
  },
  {
   "cell_type": "markdown",
   "id": "e9ffed6c",
   "metadata": {},
   "source": [
    "Make another dataframe for the Codeup blog posts. Name the dataframe codeup_df.\n",
    "\n"
   ]
  },
  {
   "cell_type": "markdown",
   "id": "cc7d492e",
   "metadata": {},
   "source": [
    "For each dataframe, produce the following columns:\n",
    "\n",
    "title to hold the title\n",
    "original to hold the original article/post content\n",
    "clean to hold the normalized and tokenized original with the stopwords removed.\n",
    "stemmed to hold the stemmed version of the cleaned data.\n",
    "lemmatized to hold the lemmatized version of the cleaned data.\n"
   ]
  },
  {
   "cell_type": "markdown",
   "id": "808ac953",
   "metadata": {},
   "source": []
  },
  {
   "cell_type": "markdown",
   "id": "787ddb06",
   "metadata": {},
   "source": [
    "Ask yourself:\n",
    "\n",
    "If your corpus is 493KB, would you prefer to use stemmed or lemmatized text?\n",
    "If your corpus is 25MB, would you prefer to use stemmed or lemmatized text?\n",
    "If your corpus is 200TB of text and you're charged by the megabyte for your hosted computational resources, would you prefer to use stemmed or lemmatized text?"
   ]
  }
 ],
 "metadata": {
  "kernelspec": {
   "display_name": "Python 3.9.12 ('base')",
   "language": "python",
   "name": "python3"
  },
  "language_info": {
   "codemirror_mode": {
    "name": "ipython",
    "version": 3
   },
   "file_extension": ".py",
   "mimetype": "text/x-python",
   "name": "python",
   "nbconvert_exporter": "python",
   "pygments_lexer": "ipython3",
   "version": "3.9.12"
  },
  "vscode": {
   "interpreter": {
    "hash": "38cca0c38332a56087b24af0bc80247f4fced29cb4f7f437d91dc159adec9c4e"
   }
  }
 },
 "nbformat": 4,
 "nbformat_minor": 5
}
